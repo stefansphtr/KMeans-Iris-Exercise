{
 "cells": [
  {
   "cell_type": "markdown",
   "metadata": {},
   "source": [
    "<p align=\"center\">\n",
    "    <img src=\"../src/images/Sikit_learn_logo.png\" alt=\"Icon Scikit-Learn\" width=\"50\" align=\"left\">\n",
    "</p>\n",
    "\n",
    "# Exercise Implementing K-mean algorithm for Dataset Iris with and without using Scikit-learn\n",
    "---\n",
    "- Name: Stefanus Bernard Melkisedek\n",
    "- Bangkit ID: m741d4ky3073\n",
    "- Email: stefanussipahutar@gmail.com\n"
   ]
  },
  {
   "cell_type": "markdown",
   "metadata": {},
   "source": [
    "## Introduction\n",
    "\n",
    "In this exercise, I will implement the K-mean algorithm for the Iris dataset. **The Iris dataset consists of 150 samples** of iris flowers. Each sample has four features: sepal length, sepal width, petal length, and petal width. \n",
    "\n",
    "The samples are labeled with three classes: **setosa**, **versicolor**, and **virginica**. **The goal** of this exercise **is to cluster the samples into three clusters using the K-mean algorithm**. I will implement the K-mean algorithm from scratch and compare the results with the implementation using the Scikit-learn library.\n",
    "\n",
    "Not only that, I will also visualize the clusters and compare the results of the implementation using the K-mean algorithm from scratch and the implementation using the Scikit-learn library.\n",
    "\n",
    "The last one, I will evaluate the result by using the **Elbow method, Silhoutte score, ARI(Ajusted Rand Index) Score, and AMI(Ajusted Mutual Information) Score**. "
   ]
  },
  {
   "cell_type": "markdown",
   "metadata": {},
   "source": [
    "## Import Libraries\n"
   ]
  },
  {
   "cell_type": "code",
   "execution_count": 1,
   "metadata": {},
   "outputs": [],
   "source": [
    "# Import necessary libraries\n",
    "import matplotlib.pyplot as plt\n",
    "import numpy as np\n",
    "import pandas as pd\n",
    "\n",
    "# Import necessary modules from sklearn\n",
    "from sklearn import datasets\n",
    "from sklearn.cluster import KMeans\n",
    "from sklearn.metrics import (\n",
    "    adjusted_rand_score,\n",
    "    normalized_mutual_info_score,\n",
    "    silhouette_score,\n",
    ")\n",
    "\n",
    "# Import necessary Python standard library modules\n",
    "from typing import Tuple, List\n",
    "from copy import deepcopy\n",
    "import io\n",
    "\n",
    "# Import the sys module to modify the Python path\n",
    "import sys\n",
    "\n",
    "# Add the \"scripts\" directory to the Python path\n",
    "# This is necessary because the utility module is in the \"scripts\" directory,\n",
    "# which is not in the Python path by default\n",
    "sys.path.insert(0, \"../scripts/\")\n",
    "\n",
    "# Now that the \"scripts\" directory is in the Python path, we can import the utility module\n",
    "import utility"
   ]
  },
  {
   "cell_type": "markdown",
   "metadata": {},
   "source": [
    "## Prepared dataset"
   ]
  },
  {
   "cell_type": "code",
   "execution_count": null,
   "metadata": {},
   "outputs": [],
   "source": [
    "# Load the iris dataset\n",
    "iris_dataset = datasets.load_iris()\n",
    "\n",
    "# Extract the features from the dataset\n",
    "features = iris_dataset.data\n",
    "\n",
    "# Extract the sepal length and width for all samples\n",
    "sepal_length = features[:, 0]\n",
    "sepal_width = features[:, 1]\n",
    "\n",
    "# Combine sepal length and width into a single array\n",
    "sepal_dimensions = np.array(list(zip(sepal_length, sepal_width)))\n",
    "\n",
    "# Define the number of clusters for the k-means algorithm\n",
    "number_of_clusters = 3"
   ]
  },
  {
   "cell_type": "markdown",
   "metadata": {},
   "source": [
    "## Implementing K-mean algorithm without using Scikit-learn"
   ]
  },
  {
   "cell_type": "markdown",
   "metadata": {},
   "source": [
    "### Step 1: Place k random centroids for the initial clusters."
   ]
  }
 ],
 "metadata": {
  "kernelspec": {
   "display_name": "Python 3",
   "language": "python",
   "name": "python3"
  },
  "language_info": {
   "codemirror_mode": {
    "name": "ipython",
    "version": 3
   },
   "file_extension": ".py",
   "mimetype": "text/x-python",
   "name": "python",
   "nbconvert_exporter": "python",
   "pygments_lexer": "ipython3",
   "version": "3.11.8"
  }
 },
 "nbformat": 4,
 "nbformat_minor": 2
}
