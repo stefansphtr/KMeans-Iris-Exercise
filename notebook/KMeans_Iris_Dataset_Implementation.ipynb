{
 "cells": [
  {
   "cell_type": "markdown",
   "metadata": {},
   "source": [
    "# Exercise Implementing K-mean algorithm for Dataset Iris with and without using Scikit-learn\n",
    "---\n",
    "- Name: Stefanus Bernard Melkisedek\n",
    "- Bangkit ID: m741d4ky3073\n",
    "- Email: stefanussipahutar@gmail.com\n"
   ]
  },
  {
   "cell_type": "markdown",
   "metadata": {},
   "source": [
    "## Introduction\n",
    "\n",
    "In this exercise, I will implement the K-mean algorithm for the Iris dataset. **The Iris dataset consists of 150 samples** of iris flowers. Each sample has four features: sepal length, sepal width, petal length, and petal width. \n",
    "\n",
    "The samples are labeled with three classes: **setosa**, **versicolor**, and **virginica**. **The goal** of this exercise **is to cluster the samples into three clusters using the K-mean algorithm**. I will implement the K-mean algorithm from scratch and compare the results with the implementation using the Scikit-learn library.\n",
    "\n",
    "Not only that, I will also visualize the clusters and compare the results of the implementation using the K-mean algorithm from scratch and the implementation using the Scikit-learn library.\n",
    "\n",
    "The last one, I will evaluate the result by using the **Elbow method, Silhoutte score, ARI(Ajusted Rand Index) Score, and AMI(Ajusted Mutual Information) Score**. "
   ]
  },
  {
   "cell_type": "markdown",
   "metadata": {},
   "source": [
    "## Import Libraries\n"
   ]
  },
  {
   "cell_type": "code",
   "execution_count": null,
   "metadata": {},
   "outputs": [],
   "source": [
    "# Import necessary libraries\n",
    "import matplotlib.pyplot as plt\n",
    "import numpy as np\n",
    "import pandas as pd\n",
    "\n",
    "# Import necessary modules from sklearn\n",
    "from sklearn import datasets\n",
    "from sklearn.cluster import KMeans\n",
    "from sklearn.metrics import (\n",
    "    adjusted_rand_score,\n",
    "    normalized_mutual_info_score,\n",
    "    silhouette_score,\n",
    ")\n",
    "\n",
    "# Import necessary Python standard library modules\n",
    "from typing import Tuple, List\n",
    "from copy import deepcopy\n",
    "import io"
   ]
  },
  {
   "cell_type": "markdown",
   "metadata": {},
   "source": [
    "## Prepared dataset"
   ]
  },
  {
   "cell_type": "code",
   "execution_count": null,
   "metadata": {},
   "outputs": [],
   "source": [
    "# Load the iris dataset\n",
    "iris_dataset = datasets.load_iris()\n",
    "\n",
    "# Extract the features from the dataset\n",
    "features = iris_dataset.data\n",
    "\n",
    "# Extract the sepal length and width for all samples\n",
    "sepal_length = features[:, 0]\n",
    "sepal_width = features[:, 1]\n",
    "\n",
    "# Combine sepal length and width into a single array\n",
    "sepal_dimensions = np.array(list(zip(sepal_length, sepal_width)))\n",
    "\n",
    "# Define the number of clusters for the k-means algorithm\n",
    "number_of_clusters = 3"
   ]
  }
 ],
 "metadata": {
  "language_info": {
   "name": "python"
  }
 },
 "nbformat": 4,
 "nbformat_minor": 2
}
